{
 "cells": [
  {
   "cell_type": "code",
   "execution_count": 111,
   "metadata": {},
   "outputs": [],
   "source": [
    "import pandas as pd\n",
    "import numpy as np\n",
    "import matplotlib.pyplot as plt\n",
    "from sklearn.model_selection import train_test_split, cross_val_score\n",
    "from sklearn.datasets import load_boston\n",
    "from sklearn.linear_model import LinearRegression, Lasso, Ridge, ElasticNet\n",
    "bs = load_boston()"
   ]
  },
  {
   "cell_type": "code",
   "execution_count": 52,
   "metadata": {},
   "outputs": [
    {
     "data": {
      "text/html": [
       "<div>\n",
       "<style scoped>\n",
       "    .dataframe tbody tr th:only-of-type {\n",
       "        vertical-align: middle;\n",
       "    }\n",
       "\n",
       "    .dataframe tbody tr th {\n",
       "        vertical-align: top;\n",
       "    }\n",
       "\n",
       "    .dataframe thead th {\n",
       "        text-align: right;\n",
       "    }\n",
       "</style>\n",
       "<table border=\"1\" class=\"dataframe\">\n",
       "  <thead>\n",
       "    <tr style=\"text-align: right;\">\n",
       "      <th></th>\n",
       "      <th>CRIM</th>\n",
       "      <th>ZN</th>\n",
       "      <th>INDUS</th>\n",
       "      <th>CHAS</th>\n",
       "      <th>NOX</th>\n",
       "      <th>RM</th>\n",
       "      <th>AGE</th>\n",
       "      <th>DIS</th>\n",
       "      <th>RAD</th>\n",
       "      <th>TAX</th>\n",
       "      <th>PTRATIO</th>\n",
       "      <th>B</th>\n",
       "      <th>LSTAT</th>\n",
       "      <th>Bias</th>\n",
       "    </tr>\n",
       "  </thead>\n",
       "  <tbody>\n",
       "    <tr>\n",
       "      <th>0</th>\n",
       "      <td>0.00632</td>\n",
       "      <td>18.0</td>\n",
       "      <td>2.31</td>\n",
       "      <td>0.0</td>\n",
       "      <td>0.538</td>\n",
       "      <td>6.575</td>\n",
       "      <td>65.2</td>\n",
       "      <td>4.0900</td>\n",
       "      <td>1.0</td>\n",
       "      <td>296.0</td>\n",
       "      <td>15.3</td>\n",
       "      <td>396.90</td>\n",
       "      <td>4.98</td>\n",
       "      <td>1.0</td>\n",
       "    </tr>\n",
       "    <tr>\n",
       "      <th>1</th>\n",
       "      <td>0.02731</td>\n",
       "      <td>0.0</td>\n",
       "      <td>7.07</td>\n",
       "      <td>0.0</td>\n",
       "      <td>0.469</td>\n",
       "      <td>6.421</td>\n",
       "      <td>78.9</td>\n",
       "      <td>4.9671</td>\n",
       "      <td>2.0</td>\n",
       "      <td>242.0</td>\n",
       "      <td>17.8</td>\n",
       "      <td>396.90</td>\n",
       "      <td>9.14</td>\n",
       "      <td>1.0</td>\n",
       "    </tr>\n",
       "    <tr>\n",
       "      <th>2</th>\n",
       "      <td>0.02729</td>\n",
       "      <td>0.0</td>\n",
       "      <td>7.07</td>\n",
       "      <td>0.0</td>\n",
       "      <td>0.469</td>\n",
       "      <td>7.185</td>\n",
       "      <td>61.1</td>\n",
       "      <td>4.9671</td>\n",
       "      <td>2.0</td>\n",
       "      <td>242.0</td>\n",
       "      <td>17.8</td>\n",
       "      <td>392.83</td>\n",
       "      <td>4.03</td>\n",
       "      <td>1.0</td>\n",
       "    </tr>\n",
       "    <tr>\n",
       "      <th>3</th>\n",
       "      <td>0.03237</td>\n",
       "      <td>0.0</td>\n",
       "      <td>2.18</td>\n",
       "      <td>0.0</td>\n",
       "      <td>0.458</td>\n",
       "      <td>6.998</td>\n",
       "      <td>45.8</td>\n",
       "      <td>6.0622</td>\n",
       "      <td>3.0</td>\n",
       "      <td>222.0</td>\n",
       "      <td>18.7</td>\n",
       "      <td>394.63</td>\n",
       "      <td>2.94</td>\n",
       "      <td>1.0</td>\n",
       "    </tr>\n",
       "    <tr>\n",
       "      <th>4</th>\n",
       "      <td>0.06905</td>\n",
       "      <td>0.0</td>\n",
       "      <td>2.18</td>\n",
       "      <td>0.0</td>\n",
       "      <td>0.458</td>\n",
       "      <td>7.147</td>\n",
       "      <td>54.2</td>\n",
       "      <td>6.0622</td>\n",
       "      <td>3.0</td>\n",
       "      <td>222.0</td>\n",
       "      <td>18.7</td>\n",
       "      <td>396.90</td>\n",
       "      <td>5.33</td>\n",
       "      <td>1.0</td>\n",
       "    </tr>\n",
       "  </tbody>\n",
       "</table>\n",
       "</div>"
      ],
      "text/plain": [
       "      CRIM    ZN  INDUS  CHAS    NOX     RM   AGE     DIS  RAD    TAX  \\\n",
       "0  0.00632  18.0   2.31   0.0  0.538  6.575  65.2  4.0900  1.0  296.0   \n",
       "1  0.02731   0.0   7.07   0.0  0.469  6.421  78.9  4.9671  2.0  242.0   \n",
       "2  0.02729   0.0   7.07   0.0  0.469  7.185  61.1  4.9671  2.0  242.0   \n",
       "3  0.03237   0.0   2.18   0.0  0.458  6.998  45.8  6.0622  3.0  222.0   \n",
       "4  0.06905   0.0   2.18   0.0  0.458  7.147  54.2  6.0622  3.0  222.0   \n",
       "\n",
       "   PTRATIO       B  LSTAT  Bias  \n",
       "0     15.3  396.90   4.98   1.0  \n",
       "1     17.8  396.90   9.14   1.0  \n",
       "2     17.8  392.83   4.03   1.0  \n",
       "3     18.7  394.63   2.94   1.0  \n",
       "4     18.7  396.90   5.33   1.0  "
      ]
     },
     "execution_count": 52,
     "metadata": {},
     "output_type": "execute_result"
    }
   ],
   "source": [
    "dataframe= pd.DataFrame(bs.data, columns=bs.feature_names)\n",
    "#target = pd.DataFrame(bs.target, columns=[\"Val\"])\n",
    "bias= np.ones(shape=(len(bs.data),1))\n",
    "dataframe['Bias']= bias \n",
    "np.hstack((bs.data, bias))\n",
    "X = bs.data\n",
    "y = bs.target[:, np.newaxis]\n",
    "X_train, X_test, y_train, y_test = train_test_split(X, y, test_size=0.2, random_state=42)\n",
    "dataframe.head()\n",
    "#y"
   ]
  },
  {
   "cell_type": "code",
   "execution_count": 53,
   "metadata": {},
   "outputs": [],
   "source": [
    "#linear regression\n",
    "def compute_cost(X, y, params):\n",
    "    #num houses in h=boston\n",
    "    n_samples = len(y)\n",
    "    #matrix multiplication of features(dot)params\n",
    "    h = X @ params\n",
    "    #Mean Squared Error Cost Function\n",
    "    #n_samples= total vals(sums up to this point, h=expected y vals, y=actual y vals\n",
    "    return (1/(2*n_samples))*np.sum((h-y)**2)"
   ]
  },
  {
   "cell_type": "code",
   "execution_count": 54,
   "metadata": {},
   "outputs": [],
   "source": [
    "def gradient_descent(X, y, params, learning_rate=.01, n_iters=300):\n",
    "    n_samples = len(y)\n",
    "    #History of cost function\n",
    "    Cost_history = np.zeros((n_iters,1))\n",
    "    \n",
    "    for i in range(n_iters):\n",
    "        #new params=old params val- learning rate/num vals * partial derivative of X Transpose\n",
    "        params = params - (learning_rate/n_samples) * X.T @ (X @ params - y) \n",
    "        #Calc cost with new params val\n",
    "        Cost_history[i] = compute_cost(X, y, params)\n",
    "\n",
    "    return (Cost_history, params)\n",
    "#Can spec. default vals (look at n_iters)"
   ]
  },
  {
   "cell_type": "code",
   "execution_count": 55,
   "metadata": {},
   "outputs": [],
   "source": [
    "#Data Prep stage\n",
    "#Normalize vals into proportional vals between 0-1\n",
    "n_samples = len(y)\n",
    "#Find mean & std of X\n",
    "mu = np.mean(X)\n",
    "sigma = np.std(X)\n",
    "#Normalizing Moments Eq= mean/stdDev\n",
    "X = (X-mu) / sigma\n",
    "#Add new vals back to X\n",
    "X = np.hstack((np.ones((n_samples,1)),X))\n",
    "n_features = np.size(X,1)\n",
    "params = np.zeros((n_features,1))"
   ]
  },
  {
   "cell_type": "code",
   "execution_count": 131,
   "metadata": {},
   "outputs": [
    {
     "name": "stdout",
     "output_type": "stream",
     "text": [
      "Original Cost: 296.0734584980237\n",
      "Optimal parameters are: \n",
      " [[ 3.11634330e+00]\n",
      " [-1.69371085e+00]\n",
      " [-4.99705849e-01]\n",
      " [-1.56235560e+00]\n",
      " [-1.49898822e+00]\n",
      " [-1.49672295e+00]\n",
      " [-1.32357472e+00]\n",
      " [-9.50685581e-01]\n",
      " [-1.37914714e+00]\n",
      " [-1.59028676e+00]\n",
      " [-5.19017555e-03]\n",
      " [-1.21295481e+00]\n",
      " [ 6.46814767e+00]\n",
      " [-1.69140415e+00]] \n",
      "\n"
     ]
    },
    {
     "ename": "TypeError",
     "evalue": "unsupported format string passed to numpy.ndarray.__format__",
     "output_type": "error",
     "traceback": [
      "\u001b[1;31m---------------------------------------------------------------------------\u001b[0m",
      "\u001b[1;31mTypeError\u001b[0m                                 Traceback (most recent call last)",
      "\u001b[1;32m<ipython-input-131-be72719a8115>\u001b[0m in \u001b[0;36m<module>\u001b[1;34m\u001b[0m\n\u001b[0;32m      9\u001b[0m \u001b[0mprint\u001b[0m\u001b[1;33m(\u001b[0m\u001b[1;34m\"Optimal parameters are: \\n\"\u001b[0m\u001b[1;33m,\u001b[0m \u001b[0moptimal_params\u001b[0m\u001b[1;33m,\u001b[0m \u001b[1;34m\"\\n\"\u001b[0m\u001b[1;33m)\u001b[0m\u001b[1;33m\u001b[0m\u001b[1;33m\u001b[0m\u001b[0m\n\u001b[0;32m     10\u001b[0m \u001b[1;31m#Ending cost is?\u001b[0m\u001b[1;33m\u001b[0m\u001b[1;33m\u001b[0m\u001b[1;33m\u001b[0m\u001b[0m\n\u001b[1;32m---> 11\u001b[1;33m \u001b[0mprint\u001b[0m\u001b[1;33m(\u001b[0m\u001b[1;34mf\"Final cost is: {Cost_history[-1]:.2f}\"\u001b[0m\u001b[1;33m)\u001b[0m\u001b[1;33m\u001b[0m\u001b[1;33m\u001b[0m\u001b[0m\n\u001b[0m\u001b[0;32m     12\u001b[0m \u001b[1;31m#plot cost function\u001b[0m\u001b[1;33m\u001b[0m\u001b[1;33m\u001b[0m\u001b[1;33m\u001b[0m\u001b[0m\n\u001b[0;32m     13\u001b[0m \u001b[1;31m#plt.plot(range(len(Cost_history)), Cost_history, 'r')\u001b[0m\u001b[1;33m\u001b[0m\u001b[1;33m\u001b[0m\u001b[1;33m\u001b[0m\u001b[0m\n",
      "\u001b[1;31mTypeError\u001b[0m: unsupported format string passed to numpy.ndarray.__format__"
     ]
    }
   ],
   "source": [
    "#Num times to run gradient descent\n",
    "n_iters = 3000\n",
    "#Learning rate for gradient descent\n",
    "learning_rate = .0005\n",
    "print(\"Original Cost:\", compute_cost(X,y, params))\n",
    "#Call gradient descent\n",
    "(Cost_history, optimal_params) = gradient_descent(X, y, params, learning_rate, n_iters)\n",
    "#Print optimal params\n",
    "print(\"Optimal parameters are: \\n\", optimal_params, \"\\n\")\n",
    "#Ending cost is?\n",
    "print(f\"Final cost is: {Cost_history[-1]}\")\n",
    "#plot cost function\n",
    "#plt.plot(range(len(Cost_history)), Cost_history, 'r')\n",
    "#plt.xlabel(\"N_Iterations\")\n",
    "#plt.ylabel(\"Cost\")\n",
    "plt.title(\"Linear Regression Coefficients\")\n",
    "plt.plot(optimal_params,alpha=0.7,linestyle='none',\n",
    "         marker='*',markersize=5,color='red',label=r'Lasso; $\\alpha = .1$',zorder=7)"
   ]
  },
  {
   "cell_type": "code",
   "execution_count": 117,
   "metadata": {},
   "outputs": [
    {
     "name": "stdout",
     "output_type": "stream",
     "text": [
      "0.35327592439594435\n"
     ]
    }
   ],
   "source": [
    "#Cross Validation, SKLearn regression, CVs use MSE (mean squared error)\n",
    "skReg= LinearRegression().fit(X_train, y_train)\n",
    "print(np.mean(cross_val_score(skReg, X, y, cv=5)))"
   ]
  },
  {
   "cell_type": "code",
   "execution_count": 138,
   "metadata": {},
   "outputs": [
    {
     "name": "stdout",
     "output_type": "stream",
     "text": [
      " 10\n",
      "0.7243749880696093\n"
     ]
    },
    {
     "data": {
      "image/png": "[encoded data removed]",
      "text/plain": [
       "<Figure size 432x288 with 1 Axes>"
      ]
     },
     "metadata": {
      "needs_background": "light"
     },
     "output_type": "display_data"
    }
   ],
   "source": [
    "#Lasso Regression (alpha defaults to 1)\n",
    "#Useful for feature selection, sets unneeded features to 0, adds constant lambda term (sum of coefficient vals*lambda) \n",
    "#to cost function\n",
    "#if predictors(features)>observations(data points) only n (observation) predictors selected even if all predictors are useful\n",
    "lassoReg= Lasso()\n",
    "lassoReg.fit(X_train, y_train)\n",
    "coeff_used = np.sum(lassoReg.coef_!=0)\n",
    "lassoRegTrainAcc= lassoReg.score(X_train, y_train)\n",
    "lassoRegTestAcc= lassoReg.score(X_test, y_test)\n",
    "print(\"\", coeff_used)\n",
    "plt.title(\"Lasso Regression Coefficients\")\n",
    "plt.xlabel('Coefficient Index',fontsize=16)\n",
    "plt.ylabel('Coefficient Value',fontsize=16)\n",
    "plt.plot(lassoReg.coef_,alpha=0.7,linestyle='none',\n",
    "         marker='*',markersize=5,color='red',label=r'Lasso; $\\alpha = 1$',zorder=7)\n",
    "\n",
    "\n",
    "#lasso pt.2\n",
    "lassoReg2=Lasso(alpha=.001, max_iter=10e5)\n",
    "lassoReg2.fit(X_train, y_train)\n",
    "lassoRegTrainAcc2= lassoReg.score(X_train, y_train)\n",
    "lassoRegTestAcc2= lassoReg.score(X_test, y_test)\n",
    "#print(f\"num coefficients {lassoReg2.coef_}\")\n",
    "\n",
    "plt.plot(np.hstack(lassoReg2.coef_),alpha=0.5,linestyle='none',marker='d',\n",
    "         markersize=6,color='blue',label=r'Lasso; $\\alpha = .001$')\n",
    "\n",
    "\n",
    "#Linear Regression from SKLearn\n",
    "skReg= LinearRegression().fit(X_train, y_train)\n",
    "plt.plot(np.hstack(skReg.coef_),alpha=0.4,linestyle='none',\n",
    "         marker='o',markersize=7,color='green',label='Linear Regression')\n",
    "plt.legend()\n",
    "\n",
    "\n",
    "#CV\n",
    "print(np.mean(cross_val_score(lassoReg2, X_train, y_train, cv=5)))"
   ]
  },
  {
   "cell_type": "code",
   "execution_count": 139,
   "metadata": {},
   "outputs": [
    {
     "name": "stdout",
     "output_type": "stream",
     "text": [
      "0.6960840548212719\n"
     ]
    },
    {
     "data": {
      "image/png": "[encoded data removed]",
      "text/plain": [
       "<Figure size 432x288 with 1 Axes>"
      ]
     },
     "metadata": {
      "needs_background": "light"
     },
     "output_type": "display_data"
    }
   ],
   "source": [
    "#Ridge\n",
    "#Adds additional term based on sum of coefficient squares\n",
    "#Brings coefficient values closer to 0\n",
    "#Avoids observation issue from Lasso\n",
    "#Can group colinear predictors together\n",
    "ridgeReg= Ridge(100, max_iter=10e5)\n",
    "ridgeReg.fit(X_train, y_train)\n",
    "#ridgeRegTrainAcc= lassoReg.score(X_train, y_train)\n",
    "#ridgeRegTestAcc= lassoReg.score(X_test, y_test)\n",
    "plt.title(\"Lasso Regression Coefficients\")\n",
    "plt.xlabel('Coefficient Index',fontsize=16)\n",
    "plt.ylabel('Coefficient Value',fontsize=16)\n",
    "plt.plot(np.hstack(ridgeReg.coef_),alpha=0.7,linestyle='none',marker='*',\n",
    "         markersize=5,color='red',label=r'Ridge; $\\alpha = 100$',zorder=7)\n",
    "\n",
    "\n",
    "#Ridge pt2\n",
    "ridgeReg2= Ridge(1, max_iter=10e5)\n",
    "ridgeReg2.fit(X_train, y_train)\n",
    "ridgeRegTrainAcc2= lassoReg.score(X_train, y_train)\n",
    "ridgeRegTestAcc2= lassoReg.score(X_test, y_test)\n",
    "plt.plot(np.hstack(ridgeReg2.coef_),alpha=0.5,linestyle='none',marker='d',\n",
    "         markersize=6,color='blue',label=r'Ridge; $\\alpha = 1$') \n",
    "\n",
    "\n",
    "#Linear Regression from SKLearn\n",
    "skReg= LinearRegression().fit(X_train, y_train)\n",
    "plt.plot(np.hstack(skReg.coef_),alpha=0.4,linestyle='none',\n",
    "         marker='o',markersize=7,color='green',label='Linear Regression')\n",
    "plt.legend()\n",
    "\n",
    "\n",
    "#CV\n",
    "print(np.mean(cross_val_score(ridgeReg, X_train, y_train, cv=5)))"
   ]
  },
  {
   "cell_type": "code",
   "execution_count": 129,
   "metadata": {},
   "outputs": [
    {
     "name": "stdout",
     "output_type": "stream",
     "text": [
      "-0.27731974860561576\n"
     ]
    },
    {
     "data": {
      "image/png": "[encoded data removed]",
      "text/plain": [
       "<Figure size 432x288 with 1 Axes>"
      ]
     },
     "metadata": {
      "needs_background": "light"
     },
     "output_type": "display_data"
    }
   ],
   "source": [
    "#Elastic Net\n",
    "#Combination of Lasso/Ridge regularization sum of squares lambda term and lambda term from lasso\n",
    "#Larger overhead\n",
    "elasticNet= ElasticNet()\n",
    "elasticNet.fit(X_train, y_train)\n",
    "plt.title(\"Elastic Net Coefficients\")\n",
    "plt.xlabel('Coefficient Index',fontsize=16)\n",
    "plt.ylabel('Coefficient Value',fontsize=16)\n",
    "plt.plot(np.hstack(elasticNet.coef_),alpha=0.7,linestyle='none',marker='*',\n",
    "         markersize=5,color='red',label=r'Elastic Net; $\\alpha = 1$',zorder=7)\n",
    "#Elastic Net 2\n",
    "elasticNet2= ElasticNet(.001, max_iter= 10e5)\n",
    "elasticNet2.fit(X_train, y_train)\n",
    "plt.title(\"Elastic Net Coefficients\")\n",
    "plt.xlabel('Coefficient Index',fontsize=16)\n",
    "plt.ylabel('Coefficient Value',fontsize=16)\n",
    "plt.plot(np.hstack(elasticNet2.coef_),alpha=0.7,linestyle='none',marker='*',\n",
    "         markersize=5,color='blue',label=r'Elastic Net; $\\alpha = .001$',zorder=7)\n",
    "#Linear Regression from SKLearn\n",
    "skReg= LinearRegression().fit(X_train, y_train)\n",
    "plt.plot(np.hstack(skReg.coef_),alpha=0.4,linestyle='none',\n",
    "         marker='o',markersize=7,color='green',label='Linear Regression')\n",
    "plt.legend()\n",
    "\n",
    "\n",
    "#CV\n",
    "print(np.mean(cross_val_score(elasticNet, X_train, y_train, cv=5)))"
   ]
  }
 ],
 "metadata": {
  "kernelspec": {
   "display_name": "Python 3",
   "language": "python",
   "name": "python3"
  },
  "language_info": {
   "codemirror_mode": {
    "name": "ipython",
    "version": 3
   },
   "file_extension": ".py",
   "mimetype": "text/x-python",
   "name": "python",
   "nbconvert_exporter": "python",
   "pygments_lexer": "ipython3",
   "version": "3.8.1"
  }
 },
 "nbformat": 4,
 "nbformat_minor": 4
}
